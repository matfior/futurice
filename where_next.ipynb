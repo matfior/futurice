{
 "metadata": {
  "language_info": {
   "codemirror_mode": {
    "name": "ipython",
    "version": 3
   },
   "file_extension": ".py",
   "mimetype": "text/x-python",
   "name": "python",
   "nbconvert_exporter": "python",
   "pygments_lexer": "ipython3",
   "version": "3.9.2"
  },
  "orig_nbformat": 2,
  "kernelspec": {
   "name": "python392jvsc74a57bd0fd4f56d834eb6dabd595588cba3a3742fa2ec5556117eace85ec26f2715faea3",
   "display_name": "Python 3.9.2 64-bit ('futurice-zxD2hOPZ': pipenv)"
  },
  "metadata": {
   "interpreter": {
    "hash": "fd4f56d834eb6dabd595588cba3a3742fa2ec5556117eace85ec26f2715faea3"
   }
  }
 },
 "nbformat": 4,
 "nbformat_minor": 2,
 "cells": [
  {
   "cell_type": "code",
   "execution_count": null,
   "metadata": {},
   "outputs": [],
   "source": [
    "from pyjstat import pyjstat\n",
    "import requests\n",
    "import pandas as pd\n",
    "import matplotlib.pyplot as plt\n",
    "\n",
    "ICT_SIZE_URL = 'http://ec.europa.eu/eurostat/wdds/rest/data/v2.1/json/en/tin00074?nace_r2=ICT'\n",
    "CLOUD_SERVICES_URL = 'http://ec.europa.eu/eurostat/wdds/rest/data/v2.1/json/en/isoc_cicce_use?sizen_r2=M_C10_S951_XK&sizen_r2=L_C10_S951_XK&unit=PC_ENT&indic_is=E_CC'\n",
    "GDP_DATA_FILE = 'gdp_data.csv'\n",
    "FILLER = 1\n",
    "\n",
    "# Function to display dataframes nicely and entirely\n",
    "def print_full(x):\n",
    "    pd.set_option('display.max_rows', len(x))\n",
    "    display(x)\n",
    "    pd.reset_option('display.max_rows')"
   ]
  },
  {
   "cell_type": "code",
   "execution_count": null,
   "metadata": {},
   "outputs": [],
   "source": [
    "# Pull json data about the size of ICT sector in the country and convert it to dataframe\n",
    "ict = pyjstat.Dataset.read(ICT_SIZE_URL)\n",
    "ict_df = ict.write('dataframe')\n",
    "\n",
    "# Pull json data about the amount of cloud services used in country’s enterprises and convert it to dataframe\n",
    "cloud = pyjstat.Dataset.read(CLOUD_SERVICES_URL)\n",
    "cloud_df = cloud.write('dataframe')\n",
    "\n",
    "# Drop unnecessary columns and fill missing values\n",
    "ict_values = ict_df[[\"geo\",\"time\",\"value\"]]\n",
    "ict_values = ict_values.fillna(FILLER)\n",
    "\n",
    "# We also need to aggregate (sum) values for cloud data since we want the overall values\n",
    "cloud_values = cloud_df[[\"geo\",\"time\",\"value\"]]\n",
    "sum_cloud_values = cloud_values.groupby(['geo','time']).sum()\n",
    "sum_cloud_values = sum_cloud_values.fillna(FILLER)\n",
    "\n",
    "# Merge the datasets (join based on year and country)\n",
    "ict_cloud = pd.merge(ict_values, sum_cloud_values, left_on=['geo','time'], right_on = ['geo','time'])\n",
    "ict_cloud = ict_cloud.rename(columns={\"value_x\": \"ict\", \"value_y\": \"cloud\"})\n",
    "\n",
    "# Replace zeros with ones since we want to retain some information\n",
    "ict_cloud = ict_cloud.replace(0, 1)\n",
    "\n",
    "print_full(ict_cloud)"
   ]
  },
  {
   "cell_type": "code",
   "execution_count": null,
   "metadata": {},
   "outputs": [],
   "source": [
    "# Import gdp data from provided CSV file\n",
    "gdp_data_df = pd.read_csv (GDP_DATA_FILE,delimiter='|')\n",
    "\n",
    "# Remove lines for countries that already have offices\n",
    "gdp_data_df = gdp_data_df[~gdp_data_df['2008'].str.contains(\"Office\", na=False)]\n",
    "\n",
    "# Pivot dataframe to make the merge possible, rename columns and sort data\n",
    "gdp_pivot_df = gdp_data_df.melt(['Country'], var_name='time')\n",
    "gdp_pivot_df = gdp_pivot_df.rename(columns={\"value\": \"gdp\", \"Country\": \"geo\"})\n",
    "gdp_pivot_df = gdp_pivot_df.sort_values(by=['geo', 'time'])\n",
    "\n",
    "# To use gdp data we need to replace commas with dots and cast as float. We also fill missing values with ones\n",
    "gdp_pivot_df['gdp'] = gdp_pivot_df['gdp'].str.replace(',','.')\n",
    "gdp_pivot_df['gdp'] = gdp_pivot_df['gdp'].astype(float)\n",
    "gdp_pivot_df = gdp_pivot_df.fillna(1)\n",
    "\n",
    "print_full(gdp_pivot_df)"
   ]
  },
  {
   "cell_type": "code",
   "execution_count": null,
   "metadata": {},
   "outputs": [],
   "source": [
    "# Merge the two above dataframes (ict&cloud data, gdp data)\n",
    "ict_cloud_gdp = pd.merge(ict_cloud, gdp_pivot_df, left_on=['geo','time'], right_on = ['geo','time'])\n",
    "\n",
    "# Calculate attractiveness based on the supplied formula (GDP * percentage of ICT sector from GDP * usage of cloud computing in enterprises in a country)\n",
    "ict_cloud_gdp['attract'] = ict_cloud_gdp['ict'] * ict_cloud_gdp['cloud'] * ict_cloud_gdp['gdp']\n",
    "\n",
    "print_full(ict_cloud_gdp)"
   ]
  },
  {
   "cell_type": "code",
   "execution_count": null,
   "metadata": {},
   "outputs": [],
   "source": [
    "# Drop other columns\n",
    "df_attract = ict_cloud_gdp[[\"geo\",\"time\",\"attract\"]]\n",
    "\n",
    "# Sort by attractiveness and year, desc \n",
    "df_attract = df_attract.sort_values(by=['time','attract'], ascending=False)\n",
    "\n",
    "# Finally, print a subset of the results\n",
    "year = df_attract[\"time\"]\n",
    "max_year = year.max()\n",
    "df_attract_selection = df_attract[df_attract['time'].str.contains(max_year, na=False)]\n",
    "print_full(df_attract_selection)\n",
    "\n",
    "# Pivot and plot a subset of the results\n",
    "df_selection = df_attract.iloc[:3]\n",
    "df_selection = df_selection[[\"geo\"]]\n",
    "df_attract = pd.merge(df_attract, df_selection, left_on=['geo'], right_on = ['geo'])\n",
    "df_attract = df_attract[~df_attract['time'].str.contains(\"2016\", na=False)]\n",
    "df_attract = df_attract.pivot_table('attract', 'time', 'geo')\n",
    "df_attract.plot(figsize=(20,20))"
   ]
  },
  {
   "cell_type": "code",
   "execution_count": null,
   "metadata": {},
   "outputs": [],
   "source": []
  }
 ]
}